{
  "nbformat": 4,
  "nbformat_minor": 0,
  "metadata": {
    "colab": {
      "name": "StockMarketpred.ipynb",
      "provenance": []
    },
    "kernelspec": {
      "name": "python3",
      "display_name": "Python 3"
    }
  },
  "cells": [
    {
      "cell_type": "code",
      "metadata": {
        "id": "K291KmhFwikx",
        "colab_type": "code",
        "colab": {}
      },
      "source": [
        "import numpy as np\n",
        "import matplotlib.pyplot as plt\n",
        "import pandas as pd"
      ],
      "execution_count": 0,
      "outputs": []
    },
    {
      "cell_type": "code",
      "metadata": {
        "id": "knzf3tFcygYj",
        "colab_type": "code",
        "outputId": "a64ffe7a-8b93-4e62-9d31-a7f52ef3cbf4",
        "colab": {
          "base_uri": "https://localhost:8080/",
          "height": 121
        }
      },
      "source": [
        "from google.colab import drive\n",
        "drive.mount('/content/drive')"
      ],
      "execution_count": 0,
      "outputs": [
        {
          "output_type": "stream",
          "text": [
            "Go to this URL in a browser: https://accounts.google.com/o/oauth2/auth?client_id=947318989803-6bn6qk8qdgf4n4g3pfee6491hc0brc4i.apps.googleusercontent.com&redirect_uri=urn%3aietf%3awg%3aoauth%3a2.0%3aoob&response_type=code&scope=email%20https%3a%2f%2fwww.googleapis.com%2fauth%2fdocs.test%20https%3a%2f%2fwww.googleapis.com%2fauth%2fdrive%20https%3a%2f%2fwww.googleapis.com%2fauth%2fdrive.photos.readonly%20https%3a%2f%2fwww.googleapis.com%2fauth%2fpeopleapi.readonly\n",
            "\n",
            "Enter your authorization code:\n",
            "··········\n",
            "Mounted at /content/drive\n"
          ],
          "name": "stdout"
        }
      ]
    },
    {
      "cell_type": "code",
      "metadata": {
        "id": "L46vaXqfy28x",
        "colab_type": "code",
        "colab": {}
      },
      "source": [
        "dataset= pd.read_csv('/content/drive/My Drive/Colab Notebooks/Stock Dataset/CIPLA.csv')"
      ],
      "execution_count": 0,
      "outputs": []
    },
    {
      "cell_type": "code",
      "metadata": {
        "id": "MCoLP51izd83",
        "colab_type": "code",
        "outputId": "c96ff8d8-318f-480e-8499-a916fd82396c",
        "colab": {
          "base_uri": "https://localhost:8080/",
          "height": 195
        }
      },
      "source": [
        "dataset.head()"
      ],
      "execution_count": 0,
      "outputs": [
        {
          "output_type": "execute_result",
          "data": {
            "text/html": [
              "<div>\n",
              "<style scoped>\n",
              "    .dataframe tbody tr th:only-of-type {\n",
              "        vertical-align: middle;\n",
              "    }\n",
              "\n",
              "    .dataframe tbody tr th {\n",
              "        vertical-align: top;\n",
              "    }\n",
              "\n",
              "    .dataframe thead th {\n",
              "        text-align: right;\n",
              "    }\n",
              "</style>\n",
              "<table border=\"1\" class=\"dataframe\">\n",
              "  <thead>\n",
              "    <tr style=\"text-align: right;\">\n",
              "      <th></th>\n",
              "      <th>Date</th>\n",
              "      <th>Symbol</th>\n",
              "      <th>Series</th>\n",
              "      <th>Prev Close</th>\n",
              "      <th>Open</th>\n",
              "      <th>High</th>\n",
              "      <th>Low</th>\n",
              "      <th>Last</th>\n",
              "      <th>Close</th>\n",
              "      <th>VWAP</th>\n",
              "      <th>Volume</th>\n",
              "      <th>Turnover</th>\n",
              "      <th>Trades</th>\n",
              "      <th>Deliverable Volume</th>\n",
              "      <th>%Deliverble</th>\n",
              "    </tr>\n",
              "  </thead>\n",
              "  <tbody>\n",
              "    <tr>\n",
              "      <th>0</th>\n",
              "      <td>2000-01-03</td>\n",
              "      <td>CIPLA</td>\n",
              "      <td>EQ</td>\n",
              "      <td>1349.40</td>\n",
              "      <td>1410.0</td>\n",
              "      <td>1457.35</td>\n",
              "      <td>1380.05</td>\n",
              "      <td>1457.35</td>\n",
              "      <td>1457.35</td>\n",
              "      <td>1441.36</td>\n",
              "      <td>21060</td>\n",
              "      <td>3.035496e+12</td>\n",
              "      <td>NaN</td>\n",
              "      <td>NaN</td>\n",
              "      <td>NaN</td>\n",
              "    </tr>\n",
              "    <tr>\n",
              "      <th>1</th>\n",
              "      <td>2000-01-04</td>\n",
              "      <td>CIPLA</td>\n",
              "      <td>EQ</td>\n",
              "      <td>1457.35</td>\n",
              "      <td>1537.0</td>\n",
              "      <td>1537.00</td>\n",
              "      <td>1430.00</td>\n",
              "      <td>1466.05</td>\n",
              "      <td>1465.25</td>\n",
              "      <td>1460.43</td>\n",
              "      <td>30215</td>\n",
              "      <td>4.412698e+12</td>\n",
              "      <td>NaN</td>\n",
              "      <td>NaN</td>\n",
              "      <td>NaN</td>\n",
              "    </tr>\n",
              "    <tr>\n",
              "      <th>2</th>\n",
              "      <td>2000-01-05</td>\n",
              "      <td>CIPLA</td>\n",
              "      <td>EQ</td>\n",
              "      <td>1465.25</td>\n",
              "      <td>1474.0</td>\n",
              "      <td>1474.00</td>\n",
              "      <td>1365.00</td>\n",
              "      <td>1441.00</td>\n",
              "      <td>1435.05</td>\n",
              "      <td>1428.11</td>\n",
              "      <td>33799</td>\n",
              "      <td>4.826872e+12</td>\n",
              "      <td>NaN</td>\n",
              "      <td>NaN</td>\n",
              "      <td>NaN</td>\n",
              "    </tr>\n",
              "    <tr>\n",
              "      <th>3</th>\n",
              "      <td>2000-01-06</td>\n",
              "      <td>CIPLA</td>\n",
              "      <td>EQ</td>\n",
              "      <td>1435.05</td>\n",
              "      <td>1434.0</td>\n",
              "      <td>1435.00</td>\n",
              "      <td>1349.00</td>\n",
              "      <td>1365.00</td>\n",
              "      <td>1355.85</td>\n",
              "      <td>1390.55</td>\n",
              "      <td>33083</td>\n",
              "      <td>4.600356e+12</td>\n",
              "      <td>NaN</td>\n",
              "      <td>NaN</td>\n",
              "      <td>NaN</td>\n",
              "    </tr>\n",
              "    <tr>\n",
              "      <th>4</th>\n",
              "      <td>2000-01-07</td>\n",
              "      <td>CIPLA</td>\n",
              "      <td>EQ</td>\n",
              "      <td>1355.85</td>\n",
              "      <td>1370.0</td>\n",
              "      <td>1389.90</td>\n",
              "      <td>1247.40</td>\n",
              "      <td>1247.40</td>\n",
              "      <td>1247.55</td>\n",
              "      <td>1267.49</td>\n",
              "      <td>66536</td>\n",
              "      <td>8.433351e+12</td>\n",
              "      <td>NaN</td>\n",
              "      <td>NaN</td>\n",
              "      <td>NaN</td>\n",
              "    </tr>\n",
              "  </tbody>\n",
              "</table>\n",
              "</div>"
            ],
            "text/plain": [
              "         Date Symbol Series  ...  Trades  Deliverable Volume  %Deliverble\n",
              "0  2000-01-03  CIPLA     EQ  ...     NaN                 NaN          NaN\n",
              "1  2000-01-04  CIPLA     EQ  ...     NaN                 NaN          NaN\n",
              "2  2000-01-05  CIPLA     EQ  ...     NaN                 NaN          NaN\n",
              "3  2000-01-06  CIPLA     EQ  ...     NaN                 NaN          NaN\n",
              "4  2000-01-07  CIPLA     EQ  ...     NaN                 NaN          NaN\n",
              "\n",
              "[5 rows x 15 columns]"
            ]
          },
          "metadata": {
            "tags": []
          },
          "execution_count": 4
        }
      ]
    },
    {
      "cell_type": "code",
      "metadata": {
        "id": "uvHKGlHRzira",
        "colab_type": "code",
        "colab": {}
      },
      "source": [
        "new_dataset = dataset[['Date','Open','High','Low','Close','Volume']]"
      ],
      "execution_count": 0,
      "outputs": []
    },
    {
      "cell_type": "code",
      "metadata": {
        "id": "A9FHRUl20KyH",
        "colab_type": "code",
        "outputId": "72d8213f-1f71-410e-9234-a03601950061",
        "colab": {
          "base_uri": "https://localhost:8080/",
          "height": 402
        }
      },
      "source": [
        "new_dataset"
      ],
      "execution_count": 0,
      "outputs": [
        {
          "output_type": "execute_result",
          "data": {
            "text/html": [
              "<div>\n",
              "<style scoped>\n",
              "    .dataframe tbody tr th:only-of-type {\n",
              "        vertical-align: middle;\n",
              "    }\n",
              "\n",
              "    .dataframe tbody tr th {\n",
              "        vertical-align: top;\n",
              "    }\n",
              "\n",
              "    .dataframe thead th {\n",
              "        text-align: right;\n",
              "    }\n",
              "</style>\n",
              "<table border=\"1\" class=\"dataframe\">\n",
              "  <thead>\n",
              "    <tr style=\"text-align: right;\">\n",
              "      <th></th>\n",
              "      <th>Date</th>\n",
              "      <th>Open</th>\n",
              "      <th>High</th>\n",
              "      <th>Low</th>\n",
              "      <th>Close</th>\n",
              "      <th>Volume</th>\n",
              "    </tr>\n",
              "  </thead>\n",
              "  <tbody>\n",
              "    <tr>\n",
              "      <th>0</th>\n",
              "      <td>2000-01-03</td>\n",
              "      <td>1410.0</td>\n",
              "      <td>1457.35</td>\n",
              "      <td>1380.05</td>\n",
              "      <td>1457.35</td>\n",
              "      <td>21060</td>\n",
              "    </tr>\n",
              "    <tr>\n",
              "      <th>1</th>\n",
              "      <td>2000-01-04</td>\n",
              "      <td>1537.0</td>\n",
              "      <td>1537.00</td>\n",
              "      <td>1430.00</td>\n",
              "      <td>1465.25</td>\n",
              "      <td>30215</td>\n",
              "    </tr>\n",
              "    <tr>\n",
              "      <th>2</th>\n",
              "      <td>2000-01-05</td>\n",
              "      <td>1474.0</td>\n",
              "      <td>1474.00</td>\n",
              "      <td>1365.00</td>\n",
              "      <td>1435.05</td>\n",
              "      <td>33799</td>\n",
              "    </tr>\n",
              "    <tr>\n",
              "      <th>3</th>\n",
              "      <td>2000-01-06</td>\n",
              "      <td>1434.0</td>\n",
              "      <td>1435.00</td>\n",
              "      <td>1349.00</td>\n",
              "      <td>1355.85</td>\n",
              "      <td>33083</td>\n",
              "    </tr>\n",
              "    <tr>\n",
              "      <th>4</th>\n",
              "      <td>2000-01-07</td>\n",
              "      <td>1370.0</td>\n",
              "      <td>1389.90</td>\n",
              "      <td>1247.40</td>\n",
              "      <td>1247.55</td>\n",
              "      <td>66536</td>\n",
              "    </tr>\n",
              "    <tr>\n",
              "      <th>...</th>\n",
              "      <td>...</td>\n",
              "      <td>...</td>\n",
              "      <td>...</td>\n",
              "      <td>...</td>\n",
              "      <td>...</td>\n",
              "      <td>...</td>\n",
              "    </tr>\n",
              "    <tr>\n",
              "      <th>5070</th>\n",
              "      <td>2020-05-22</td>\n",
              "      <td>616.7</td>\n",
              "      <td>641.85</td>\n",
              "      <td>610.10</td>\n",
              "      <td>639.35</td>\n",
              "      <td>10875625</td>\n",
              "    </tr>\n",
              "    <tr>\n",
              "      <th>5071</th>\n",
              "      <td>2020-05-26</td>\n",
              "      <td>640.0</td>\n",
              "      <td>646.90</td>\n",
              "      <td>624.05</td>\n",
              "      <td>627.70</td>\n",
              "      <td>8859499</td>\n",
              "    </tr>\n",
              "    <tr>\n",
              "      <th>5072</th>\n",
              "      <td>2020-05-27</td>\n",
              "      <td>630.0</td>\n",
              "      <td>637.80</td>\n",
              "      <td>625.80</td>\n",
              "      <td>633.05</td>\n",
              "      <td>7710110</td>\n",
              "    </tr>\n",
              "    <tr>\n",
              "      <th>5073</th>\n",
              "      <td>2020-05-28</td>\n",
              "      <td>634.0</td>\n",
              "      <td>637.65</td>\n",
              "      <td>626.05</td>\n",
              "      <td>628.35</td>\n",
              "      <td>5488725</td>\n",
              "    </tr>\n",
              "    <tr>\n",
              "      <th>5074</th>\n",
              "      <td>2020-05-29</td>\n",
              "      <td>633.0</td>\n",
              "      <td>650.95</td>\n",
              "      <td>631.00</td>\n",
              "      <td>648.15</td>\n",
              "      <td>10580213</td>\n",
              "    </tr>\n",
              "  </tbody>\n",
              "</table>\n",
              "<p>5075 rows × 6 columns</p>\n",
              "</div>"
            ],
            "text/plain": [
              "            Date    Open     High      Low    Close    Volume\n",
              "0     2000-01-03  1410.0  1457.35  1380.05  1457.35     21060\n",
              "1     2000-01-04  1537.0  1537.00  1430.00  1465.25     30215\n",
              "2     2000-01-05  1474.0  1474.00  1365.00  1435.05     33799\n",
              "3     2000-01-06  1434.0  1435.00  1349.00  1355.85     33083\n",
              "4     2000-01-07  1370.0  1389.90  1247.40  1247.55     66536\n",
              "...          ...     ...      ...      ...      ...       ...\n",
              "5070  2020-05-22   616.7   641.85   610.10   639.35  10875625\n",
              "5071  2020-05-26   640.0   646.90   624.05   627.70   8859499\n",
              "5072  2020-05-27   630.0   637.80   625.80   633.05   7710110\n",
              "5073  2020-05-28   634.0   637.65   626.05   628.35   5488725\n",
              "5074  2020-05-29   633.0   650.95   631.00   648.15  10580213\n",
              "\n",
              "[5075 rows x 6 columns]"
            ]
          },
          "metadata": {
            "tags": []
          },
          "execution_count": 7
        }
      ]
    },
    {
      "cell_type": "code",
      "metadata": {
        "id": "IQb5jA2t0OAl",
        "colab_type": "code",
        "colab": {}
      },
      "source": [
        "new_dataset.to_csv('/content/drive/My Drive/Colab Notebooks/cipla_new.csv')"
      ],
      "execution_count": 0,
      "outputs": []
    },
    {
      "cell_type": "code",
      "metadata": {
        "id": "E8ysJE6E0ZUM",
        "colab_type": "code",
        "colab": {}
      },
      "source": [
        "dataset_train = new_dataset.iloc[:4974] #dataset of stock prices ranging from year 2000 to year 2019\n",
        "dataset_test = new_dataset.iloc[4974:]  #dataset of stock prices for year 2020 (till may)"
      ],
      "execution_count": 0,
      "outputs": []
    },
    {
      "cell_type": "code",
      "metadata": {
        "id": "0YG1JuF61pE1",
        "colab_type": "code",
        "outputId": "13097f52-997b-4432-8aa8-d3f616c6fd2e",
        "colab": {
          "base_uri": "https://localhost:8080/",
          "height": 402
        }
      },
      "source": [
        "dataset_train"
      ],
      "execution_count": 0,
      "outputs": [
        {
          "output_type": "execute_result",
          "data": {
            "text/html": [
              "<div>\n",
              "<style scoped>\n",
              "    .dataframe tbody tr th:only-of-type {\n",
              "        vertical-align: middle;\n",
              "    }\n",
              "\n",
              "    .dataframe tbody tr th {\n",
              "        vertical-align: top;\n",
              "    }\n",
              "\n",
              "    .dataframe thead th {\n",
              "        text-align: right;\n",
              "    }\n",
              "</style>\n",
              "<table border=\"1\" class=\"dataframe\">\n",
              "  <thead>\n",
              "    <tr style=\"text-align: right;\">\n",
              "      <th></th>\n",
              "      <th>Date</th>\n",
              "      <th>Open</th>\n",
              "      <th>High</th>\n",
              "      <th>Low</th>\n",
              "      <th>Close</th>\n",
              "      <th>Volume</th>\n",
              "    </tr>\n",
              "  </thead>\n",
              "  <tbody>\n",
              "    <tr>\n",
              "      <th>0</th>\n",
              "      <td>2000-01-03</td>\n",
              "      <td>1410.00</td>\n",
              "      <td>1457.35</td>\n",
              "      <td>1380.05</td>\n",
              "      <td>1457.35</td>\n",
              "      <td>21060</td>\n",
              "    </tr>\n",
              "    <tr>\n",
              "      <th>1</th>\n",
              "      <td>2000-01-04</td>\n",
              "      <td>1537.00</td>\n",
              "      <td>1537.00</td>\n",
              "      <td>1430.00</td>\n",
              "      <td>1465.25</td>\n",
              "      <td>30215</td>\n",
              "    </tr>\n",
              "    <tr>\n",
              "      <th>2</th>\n",
              "      <td>2000-01-05</td>\n",
              "      <td>1474.00</td>\n",
              "      <td>1474.00</td>\n",
              "      <td>1365.00</td>\n",
              "      <td>1435.05</td>\n",
              "      <td>33799</td>\n",
              "    </tr>\n",
              "    <tr>\n",
              "      <th>3</th>\n",
              "      <td>2000-01-06</td>\n",
              "      <td>1434.00</td>\n",
              "      <td>1435.00</td>\n",
              "      <td>1349.00</td>\n",
              "      <td>1355.85</td>\n",
              "      <td>33083</td>\n",
              "    </tr>\n",
              "    <tr>\n",
              "      <th>4</th>\n",
              "      <td>2000-01-07</td>\n",
              "      <td>1370.00</td>\n",
              "      <td>1389.90</td>\n",
              "      <td>1247.40</td>\n",
              "      <td>1247.55</td>\n",
              "      <td>66536</td>\n",
              "    </tr>\n",
              "    <tr>\n",
              "      <th>...</th>\n",
              "      <td>...</td>\n",
              "      <td>...</td>\n",
              "      <td>...</td>\n",
              "      <td>...</td>\n",
              "      <td>...</td>\n",
              "      <td>...</td>\n",
              "    </tr>\n",
              "    <tr>\n",
              "      <th>4969</th>\n",
              "      <td>2019-12-24</td>\n",
              "      <td>467.25</td>\n",
              "      <td>480.00</td>\n",
              "      <td>465.50</td>\n",
              "      <td>478.70</td>\n",
              "      <td>3262749</td>\n",
              "    </tr>\n",
              "    <tr>\n",
              "      <th>4970</th>\n",
              "      <td>2019-12-26</td>\n",
              "      <td>478.70</td>\n",
              "      <td>482.55</td>\n",
              "      <td>472.25</td>\n",
              "      <td>474.15</td>\n",
              "      <td>2887784</td>\n",
              "    </tr>\n",
              "    <tr>\n",
              "      <th>4971</th>\n",
              "      <td>2019-12-27</td>\n",
              "      <td>474.55</td>\n",
              "      <td>483.50</td>\n",
              "      <td>472.80</td>\n",
              "      <td>481.10</td>\n",
              "      <td>2005404</td>\n",
              "    </tr>\n",
              "    <tr>\n",
              "      <th>4972</th>\n",
              "      <td>2019-12-30</td>\n",
              "      <td>481.10</td>\n",
              "      <td>487.00</td>\n",
              "      <td>478.25</td>\n",
              "      <td>479.95</td>\n",
              "      <td>1809828</td>\n",
              "    </tr>\n",
              "    <tr>\n",
              "      <th>4973</th>\n",
              "      <td>2019-12-31</td>\n",
              "      <td>479.95</td>\n",
              "      <td>484.30</td>\n",
              "      <td>476.95</td>\n",
              "      <td>478.20</td>\n",
              "      <td>1640854</td>\n",
              "    </tr>\n",
              "  </tbody>\n",
              "</table>\n",
              "<p>4974 rows × 6 columns</p>\n",
              "</div>"
            ],
            "text/plain": [
              "            Date     Open     High      Low    Close   Volume\n",
              "0     2000-01-03  1410.00  1457.35  1380.05  1457.35    21060\n",
              "1     2000-01-04  1537.00  1537.00  1430.00  1465.25    30215\n",
              "2     2000-01-05  1474.00  1474.00  1365.00  1435.05    33799\n",
              "3     2000-01-06  1434.00  1435.00  1349.00  1355.85    33083\n",
              "4     2000-01-07  1370.00  1389.90  1247.40  1247.55    66536\n",
              "...          ...      ...      ...      ...      ...      ...\n",
              "4969  2019-12-24   467.25   480.00   465.50   478.70  3262749\n",
              "4970  2019-12-26   478.70   482.55   472.25   474.15  2887784\n",
              "4971  2019-12-27   474.55   483.50   472.80   481.10  2005404\n",
              "4972  2019-12-30   481.10   487.00   478.25   479.95  1809828\n",
              "4973  2019-12-31   479.95   484.30   476.95   478.20  1640854\n",
              "\n",
              "[4974 rows x 6 columns]"
            ]
          },
          "metadata": {
            "tags": []
          },
          "execution_count": 11
        }
      ]
    },
    {
      "cell_type": "code",
      "metadata": {
        "id": "CmhtgGhU1zfg",
        "colab_type": "code",
        "outputId": "53798254-8d07-4b6c-98ff-43b97f472e0e",
        "colab": {
          "base_uri": "https://localhost:8080/",
          "height": 402
        }
      },
      "source": [
        "dataset_test"
      ],
      "execution_count": 0,
      "outputs": [
        {
          "output_type": "execute_result",
          "data": {
            "text/html": [
              "<div>\n",
              "<style scoped>\n",
              "    .dataframe tbody tr th:only-of-type {\n",
              "        vertical-align: middle;\n",
              "    }\n",
              "\n",
              "    .dataframe tbody tr th {\n",
              "        vertical-align: top;\n",
              "    }\n",
              "\n",
              "    .dataframe thead th {\n",
              "        text-align: right;\n",
              "    }\n",
              "</style>\n",
              "<table border=\"1\" class=\"dataframe\">\n",
              "  <thead>\n",
              "    <tr style=\"text-align: right;\">\n",
              "      <th></th>\n",
              "      <th>Date</th>\n",
              "      <th>Open</th>\n",
              "      <th>High</th>\n",
              "      <th>Low</th>\n",
              "      <th>Close</th>\n",
              "      <th>Volume</th>\n",
              "    </tr>\n",
              "  </thead>\n",
              "  <tbody>\n",
              "    <tr>\n",
              "      <th>4974</th>\n",
              "      <td>2020-01-01</td>\n",
              "      <td>481.00</td>\n",
              "      <td>481.00</td>\n",
              "      <td>474.45</td>\n",
              "      <td>475.90</td>\n",
              "      <td>1316812</td>\n",
              "    </tr>\n",
              "    <tr>\n",
              "      <th>4975</th>\n",
              "      <td>2020-01-02</td>\n",
              "      <td>478.85</td>\n",
              "      <td>479.90</td>\n",
              "      <td>472.30</td>\n",
              "      <td>473.50</td>\n",
              "      <td>1406381</td>\n",
              "    </tr>\n",
              "    <tr>\n",
              "      <th>4976</th>\n",
              "      <td>2020-01-03</td>\n",
              "      <td>475.80</td>\n",
              "      <td>475.80</td>\n",
              "      <td>467.25</td>\n",
              "      <td>469.95</td>\n",
              "      <td>2252752</td>\n",
              "    </tr>\n",
              "    <tr>\n",
              "      <th>4977</th>\n",
              "      <td>2020-01-06</td>\n",
              "      <td>469.80</td>\n",
              "      <td>469.95</td>\n",
              "      <td>461.20</td>\n",
              "      <td>466.75</td>\n",
              "      <td>1501855</td>\n",
              "    </tr>\n",
              "    <tr>\n",
              "      <th>4978</th>\n",
              "      <td>2020-01-07</td>\n",
              "      <td>466.00</td>\n",
              "      <td>470.00</td>\n",
              "      <td>463.65</td>\n",
              "      <td>468.60</td>\n",
              "      <td>2365554</td>\n",
              "    </tr>\n",
              "    <tr>\n",
              "      <th>...</th>\n",
              "      <td>...</td>\n",
              "      <td>...</td>\n",
              "      <td>...</td>\n",
              "      <td>...</td>\n",
              "      <td>...</td>\n",
              "      <td>...</td>\n",
              "    </tr>\n",
              "    <tr>\n",
              "      <th>5070</th>\n",
              "      <td>2020-05-22</td>\n",
              "      <td>616.70</td>\n",
              "      <td>641.85</td>\n",
              "      <td>610.10</td>\n",
              "      <td>639.35</td>\n",
              "      <td>10875625</td>\n",
              "    </tr>\n",
              "    <tr>\n",
              "      <th>5071</th>\n",
              "      <td>2020-05-26</td>\n",
              "      <td>640.00</td>\n",
              "      <td>646.90</td>\n",
              "      <td>624.05</td>\n",
              "      <td>627.70</td>\n",
              "      <td>8859499</td>\n",
              "    </tr>\n",
              "    <tr>\n",
              "      <th>5072</th>\n",
              "      <td>2020-05-27</td>\n",
              "      <td>630.00</td>\n",
              "      <td>637.80</td>\n",
              "      <td>625.80</td>\n",
              "      <td>633.05</td>\n",
              "      <td>7710110</td>\n",
              "    </tr>\n",
              "    <tr>\n",
              "      <th>5073</th>\n",
              "      <td>2020-05-28</td>\n",
              "      <td>634.00</td>\n",
              "      <td>637.65</td>\n",
              "      <td>626.05</td>\n",
              "      <td>628.35</td>\n",
              "      <td>5488725</td>\n",
              "    </tr>\n",
              "    <tr>\n",
              "      <th>5074</th>\n",
              "      <td>2020-05-29</td>\n",
              "      <td>633.00</td>\n",
              "      <td>650.95</td>\n",
              "      <td>631.00</td>\n",
              "      <td>648.15</td>\n",
              "      <td>10580213</td>\n",
              "    </tr>\n",
              "  </tbody>\n",
              "</table>\n",
              "<p>101 rows × 6 columns</p>\n",
              "</div>"
            ],
            "text/plain": [
              "            Date    Open    High     Low   Close    Volume\n",
              "4974  2020-01-01  481.00  481.00  474.45  475.90   1316812\n",
              "4975  2020-01-02  478.85  479.90  472.30  473.50   1406381\n",
              "4976  2020-01-03  475.80  475.80  467.25  469.95   2252752\n",
              "4977  2020-01-06  469.80  469.95  461.20  466.75   1501855\n",
              "4978  2020-01-07  466.00  470.00  463.65  468.60   2365554\n",
              "...          ...     ...     ...     ...     ...       ...\n",
              "5070  2020-05-22  616.70  641.85  610.10  639.35  10875625\n",
              "5071  2020-05-26  640.00  646.90  624.05  627.70   8859499\n",
              "5072  2020-05-27  630.00  637.80  625.80  633.05   7710110\n",
              "5073  2020-05-28  634.00  637.65  626.05  628.35   5488725\n",
              "5074  2020-05-29  633.00  650.95  631.00  648.15  10580213\n",
              "\n",
              "[101 rows x 6 columns]"
            ]
          },
          "metadata": {
            "tags": []
          },
          "execution_count": 12
        }
      ]
    },
    {
      "cell_type": "code",
      "metadata": {
        "id": "ACAx_owG2AD7",
        "colab_type": "code",
        "outputId": "10f9df2a-8fc4-4b88-cf09-25d5930eba79",
        "colab": {
          "base_uri": "https://localhost:8080/",
          "height": 134
        }
      },
      "source": [
        "training_set = dataset_train.iloc[:, 1:2].values  #changing the training set into a numpy array\n",
        "training_set"
      ],
      "execution_count": 0,
      "outputs": [
        {
          "output_type": "execute_result",
          "data": {
            "text/plain": [
              "array([[1410.  ],\n",
              "       [1537.  ],\n",
              "       [1474.  ],\n",
              "       ...,\n",
              "       [ 474.55],\n",
              "       [ 481.1 ],\n",
              "       [ 479.95]])"
            ]
          },
          "metadata": {
            "tags": []
          },
          "execution_count": 13
        }
      ]
    },
    {
      "cell_type": "code",
      "metadata": {
        "id": "bg3FW27A3WyE",
        "colab_type": "code",
        "outputId": "6575512a-679c-433d-8f9c-eaeb8031dc9a",
        "colab": {
          "base_uri": "https://localhost:8080/",
          "height": 34
        }
      },
      "source": [
        "len(training_set)"
      ],
      "execution_count": 0,
      "outputs": [
        {
          "output_type": "execute_result",
          "data": {
            "text/plain": [
              "4974"
            ]
          },
          "metadata": {
            "tags": []
          },
          "execution_count": 14
        }
      ]
    },
    {
      "cell_type": "code",
      "metadata": {
        "id": "7Vb_K3Nr3Z1f",
        "colab_type": "code",
        "outputId": "c3586bc1-5af0-4862-bb2b-a46712c9de75",
        "colab": {
          "base_uri": "https://localhost:8080/",
          "height": 134
        }
      },
      "source": [
        "#Feature Scaling \n",
        "from sklearn.preprocessing import MinMaxScaler\n",
        "sc = MinMaxScaler(feature_range = (0,1))\n",
        "training_set_scaled = sc.fit_transform(training_set)\n",
        "training_set_scaled"
      ],
      "execution_count": 0,
      "outputs": [
        {
          "output_type": "execute_result",
          "data": {
            "text/plain": [
              "array([[0.90839915],\n",
              "       [1.        ],\n",
              "       [0.95456021],\n",
              "       ...,\n",
              "       [0.23369036],\n",
              "       [0.23841466],\n",
              "       [0.2375852 ]])"
            ]
          },
          "metadata": {
            "tags": []
          },
          "execution_count": 15
        }
      ]
    },
    {
      "cell_type": "code",
      "metadata": {
        "id": "4n-0dHG05qSA",
        "colab_type": "code",
        "colab": {}
      },
      "source": [
        "# Creating a data structure with 120 timesteps and 1 output\n",
        "# we are basically predicting T+1 result using 120 stock prices before T\n",
        "X_train = []\n",
        "y_train = []\n",
        "\n",
        "for i in range(120,4974):\n",
        "  X_train.append(training_set_scaled[i-120 : i, 0])\n",
        "  y_train.append(training_set_scaled[i, 0])\n",
        "X_train,y_train = np.array(X_train),np.array(y_train)"
      ],
      "execution_count": 0,
      "outputs": []
    },
    {
      "cell_type": "code",
      "metadata": {
        "id": "LVXzhrSn-GsZ",
        "colab_type": "code",
        "outputId": "b1b04474-bd98-4530-ef69-62d233b67c1d",
        "colab": {
          "base_uri": "https://localhost:8080/",
          "height": 134
        }
      },
      "source": [
        "print(X_train)"
      ],
      "execution_count": 0,
      "outputs": [
        {
          "output_type": "stream",
          "text": [
            "[[0.90839915 1.         0.95456021 ... 0.52176422 0.50668975 0.52180028]\n",
            " [1.         0.95456021 0.92570955 ... 0.50668975 0.52180028 0.51747268]\n",
            " [0.95456021 0.92570955 0.87954849 ... 0.52180028 0.51747268 0.50448988]\n",
            " ...\n",
            " [0.29222114 0.29326698 0.2919687  ... 0.2282448  0.22842511 0.23668362]\n",
            " [0.29326698 0.2919687  0.29146381 ... 0.22842511 0.23668362 0.23369036]\n",
            " [0.2919687  0.29146381 0.28922788 ... 0.23668362 0.23369036 0.23841466]]\n"
          ],
          "name": "stdout"
        }
      ]
    },
    {
      "cell_type": "code",
      "metadata": {
        "id": "RQffsqf--Jz8",
        "colab_type": "code",
        "outputId": "279631da-cee9-40e3-8f9b-11b664743747",
        "colab": {
          "base_uri": "https://localhost:8080/",
          "height": 34
        }
      },
      "source": [
        "print(y_train)"
      ],
      "execution_count": 0,
      "outputs": [
        {
          "output_type": "stream",
          "text": [
            "[0.51747268 0.50448988 0.51891522 ... 0.23369036 0.23841466 0.2375852 ]\n"
          ],
          "name": "stdout"
        }
      ]
    },
    {
      "cell_type": "code",
      "metadata": {
        "id": "HN3InJGY_Ft4",
        "colab_type": "code",
        "colab": {}
      },
      "source": [
        "# Reshaping\n",
        "X_train = np.reshape(X_train, (X_train.shape[0], X_train.shape[1], 1))"
      ],
      "execution_count": 0,
      "outputs": []
    },
    {
      "cell_type": "markdown",
      "metadata": {
        "id": "zQCOk5xGCWnO",
        "colab_type": "text"
      },
      "source": [
        "Building the RNN"
      ]
    },
    {
      "cell_type": "code",
      "metadata": {
        "id": "yYlGv4xYBoB-",
        "colab_type": "code",
        "outputId": "be21f198-87de-41ea-cbd0-10f5707104b7",
        "colab": {
          "base_uri": "https://localhost:8080/",
          "height": 34
        }
      },
      "source": [
        "from keras.models import Sequential\n",
        "from keras.layers import Dense\n",
        "from keras.layers import LSTM\n",
        "from keras.layers import Dropout"
      ],
      "execution_count": 0,
      "outputs": [
        {
          "output_type": "stream",
          "text": [
            "Using TensorFlow backend.\n"
          ],
          "name": "stderr"
        }
      ]
    },
    {
      "cell_type": "code",
      "metadata": {
        "id": "F771imKeCgDU",
        "colab_type": "code",
        "outputId": "06b8fa02-05e2-4490-ad14-d2d0ea78fbf9",
        "colab": {
          "base_uri": "https://localhost:8080/",
          "height": 1000
        }
      },
      "source": [
        "model = Sequential()\n",
        "model.add(LSTM(units = 50,return_sequences = True, input_shape = (X_train.shape[1], 1)))\n",
        "model.add(Dropout(0.2))\n",
        "model.add(LSTM(units = 50,return_sequences = True))\n",
        "model.add(Dropout(0.2))\n",
        "model.add(LSTM(units = 50,return_sequences = True))\n",
        "model.add(Dropout(0.2))\n",
        "model.add(LSTM(units = 50,return_sequences = False))\n",
        "model.add(Dropout(0.2))\n",
        "\n",
        "model.add(Dense(units = 1))\n",
        "model.compile(optimizer = 'adam', loss = 'mean_squared_error')\n",
        "\n",
        "model.fit(X_train, y_train, epochs = 200, batch_size = 32)"
      ],
      "execution_count": 0,
      "outputs": [
        {
          "output_type": "stream",
          "text": [
            "Epoch 1/200\n",
            "4854/4854 [==============================] - 43s 9ms/step - loss: 0.0063\n",
            "Epoch 2/200\n",
            "4854/4854 [==============================] - 41s 8ms/step - loss: 0.0032\n",
            "Epoch 3/200\n",
            "4854/4854 [==============================] - 41s 8ms/step - loss: 0.0026\n",
            "Epoch 4/200\n",
            "4854/4854 [==============================] - 42s 9ms/step - loss: 0.0025\n",
            "Epoch 5/200\n",
            "4854/4854 [==============================] - 42s 9ms/step - loss: 0.0021\n",
            "Epoch 6/200\n",
            "4854/4854 [==============================] - 43s 9ms/step - loss: 0.0020\n",
            "Epoch 7/200\n",
            "4854/4854 [==============================] - 42s 9ms/step - loss: 0.0017\n",
            "Epoch 8/200\n",
            "4854/4854 [==============================] - 42s 9ms/step - loss: 0.0015\n",
            "Epoch 9/200\n",
            "4854/4854 [==============================] - 42s 9ms/step - loss: 0.0015\n",
            "Epoch 10/200\n",
            "4854/4854 [==============================] - 42s 9ms/step - loss: 0.0015\n",
            "Epoch 11/200\n",
            "4854/4854 [==============================] - 42s 9ms/step - loss: 0.0013\n",
            "Epoch 12/200\n",
            "4854/4854 [==============================] - 43s 9ms/step - loss: 0.0012\n",
            "Epoch 13/200\n",
            "4854/4854 [==============================] - 42s 9ms/step - loss: 0.0012\n",
            "Epoch 14/200\n",
            "4854/4854 [==============================] - 42s 9ms/step - loss: 0.0011\n",
            "Epoch 15/200\n",
            "4854/4854 [==============================] - 42s 9ms/step - loss: 0.0011\n",
            "Epoch 16/200\n",
            "4854/4854 [==============================] - 42s 9ms/step - loss: 0.0010\n",
            "Epoch 17/200\n",
            "4854/4854 [==============================] - 43s 9ms/step - loss: 0.0011\n",
            "Epoch 18/200\n",
            "4854/4854 [==============================] - 43s 9ms/step - loss: 0.0010\n",
            "Epoch 19/200\n",
            "4854/4854 [==============================] - 42s 9ms/step - loss: 9.7132e-04\n",
            "Epoch 20/200\n",
            "4854/4854 [==============================] - 43s 9ms/step - loss: 9.0768e-04\n",
            "Epoch 21/200\n",
            "4854/4854 [==============================] - 43s 9ms/step - loss: 9.2094e-04\n",
            "Epoch 22/200\n",
            "4854/4854 [==============================] - 42s 9ms/step - loss: 8.4152e-04\n",
            "Epoch 23/200\n",
            "4854/4854 [==============================] - 42s 9ms/step - loss: 8.3185e-04\n",
            "Epoch 24/200\n",
            "4854/4854 [==============================] - 43s 9ms/step - loss: 9.1349e-04\n",
            "Epoch 25/200\n",
            "4854/4854 [==============================] - 43s 9ms/step - loss: 8.3619e-04\n",
            "Epoch 26/200\n",
            "4854/4854 [==============================] - 43s 9ms/step - loss: 8.8185e-04\n",
            "Epoch 27/200\n",
            "4854/4854 [==============================] - 43s 9ms/step - loss: 7.7575e-04\n",
            "Epoch 28/200\n",
            "4854/4854 [==============================] - 43s 9ms/step - loss: 8.5809e-04\n",
            "Epoch 29/200\n",
            "4854/4854 [==============================] - 43s 9ms/step - loss: 8.5160e-04\n",
            "Epoch 30/200\n",
            "4854/4854 [==============================] - 43s 9ms/step - loss: 8.4094e-04\n",
            "Epoch 31/200\n",
            "4854/4854 [==============================] - 43s 9ms/step - loss: 8.4579e-04\n",
            "Epoch 32/200\n",
            "4854/4854 [==============================] - 43s 9ms/step - loss: 7.5749e-04\n",
            "Epoch 33/200\n",
            "4854/4854 [==============================] - 43s 9ms/step - loss: 7.2816e-04\n",
            "Epoch 34/200\n",
            "4854/4854 [==============================] - 43s 9ms/step - loss: 7.3337e-04\n",
            "Epoch 35/200\n",
            "4854/4854 [==============================] - 43s 9ms/step - loss: 7.6050e-04\n",
            "Epoch 36/200\n",
            "4854/4854 [==============================] - 43s 9ms/step - loss: 7.6345e-04\n",
            "Epoch 37/200\n",
            "4854/4854 [==============================] - 43s 9ms/step - loss: 7.3762e-04\n",
            "Epoch 38/200\n",
            "4854/4854 [==============================] - 43s 9ms/step - loss: 8.2997e-04\n",
            "Epoch 39/200\n",
            "4854/4854 [==============================] - 43s 9ms/step - loss: 8.5046e-04\n",
            "Epoch 40/200\n",
            "4854/4854 [==============================] - 43s 9ms/step - loss: 6.8112e-04\n",
            "Epoch 41/200\n",
            "4854/4854 [==============================] - 43s 9ms/step - loss: 8.1164e-04\n",
            "Epoch 42/200\n",
            "4854/4854 [==============================] - 43s 9ms/step - loss: 7.1815e-04\n",
            "Epoch 43/200\n",
            "4854/4854 [==============================] - 43s 9ms/step - loss: 7.1949e-04\n",
            "Epoch 44/200\n",
            "4854/4854 [==============================] - 43s 9ms/step - loss: 7.5174e-04\n",
            "Epoch 45/200\n",
            "4854/4854 [==============================] - 43s 9ms/step - loss: 7.7901e-04\n",
            "Epoch 46/200\n",
            "4854/4854 [==============================] - 43s 9ms/step - loss: 8.0619e-04\n",
            "Epoch 47/200\n",
            "4854/4854 [==============================] - 43s 9ms/step - loss: 7.2892e-04\n",
            "Epoch 48/200\n",
            "4854/4854 [==============================] - 43s 9ms/step - loss: 7.6177e-04\n",
            "Epoch 49/200\n",
            "4854/4854 [==============================] - 43s 9ms/step - loss: 7.2902e-04\n",
            "Epoch 50/200\n",
            "4854/4854 [==============================] - 43s 9ms/step - loss: 7.8677e-04\n",
            "Epoch 51/200\n",
            "4854/4854 [==============================] - 43s 9ms/step - loss: 7.8266e-04\n",
            "Epoch 52/200\n",
            "4854/4854 [==============================] - 42s 9ms/step - loss: 8.3121e-04\n",
            "Epoch 53/200\n",
            "4854/4854 [==============================] - 43s 9ms/step - loss: 6.9254e-04\n",
            "Epoch 54/200\n",
            "4854/4854 [==============================] - 43s 9ms/step - loss: 6.7451e-04\n",
            "Epoch 55/200\n",
            "4854/4854 [==============================] - 43s 9ms/step - loss: 7.1242e-04\n",
            "Epoch 56/200\n",
            "4854/4854 [==============================] - 43s 9ms/step - loss: 7.0734e-04\n",
            "Epoch 57/200\n",
            "4854/4854 [==============================] - 44s 9ms/step - loss: 8.0941e-04\n",
            "Epoch 58/200\n",
            "4854/4854 [==============================] - 43s 9ms/step - loss: 7.1066e-04\n",
            "Epoch 59/200\n",
            "4854/4854 [==============================] - 43s 9ms/step - loss: 7.0117e-04\n",
            "Epoch 60/200\n",
            "4854/4854 [==============================] - 43s 9ms/step - loss: 7.6108e-04\n",
            "Epoch 61/200\n",
            "4854/4854 [==============================] - 43s 9ms/step - loss: 6.8699e-04\n",
            "Epoch 62/200\n",
            "4854/4854 [==============================] - 43s 9ms/step - loss: 7.1500e-04\n",
            "Epoch 63/200\n",
            "4854/4854 [==============================] - 43s 9ms/step - loss: 7.0801e-04\n",
            "Epoch 64/200\n",
            "4854/4854 [==============================] - 43s 9ms/step - loss: 7.0352e-04\n",
            "Epoch 65/200\n",
            "4854/4854 [==============================] - 43s 9ms/step - loss: 7.8429e-04\n",
            "Epoch 66/200\n",
            "4854/4854 [==============================] - 43s 9ms/step - loss: 6.4689e-04\n",
            "Epoch 67/200\n",
            "4854/4854 [==============================] - 43s 9ms/step - loss: 6.5952e-04\n",
            "Epoch 68/200\n",
            "4854/4854 [==============================] - 43s 9ms/step - loss: 7.7864e-04\n",
            "Epoch 69/200\n",
            "4854/4854 [==============================] - 43s 9ms/step - loss: 7.7960e-04\n",
            "Epoch 70/200\n",
            "4854/4854 [==============================] - 43s 9ms/step - loss: 7.3692e-04\n",
            "Epoch 71/200\n",
            "4854/4854 [==============================] - 43s 9ms/step - loss: 6.7502e-04\n",
            "Epoch 72/200\n",
            "4854/4854 [==============================] - 44s 9ms/step - loss: 6.7123e-04\n",
            "Epoch 73/200\n",
            "4854/4854 [==============================] - 43s 9ms/step - loss: 7.1747e-04\n",
            "Epoch 74/200\n",
            "4854/4854 [==============================] - 43s 9ms/step - loss: 7.2756e-04\n",
            "Epoch 75/200\n",
            "4854/4854 [==============================] - 43s 9ms/step - loss: 6.6158e-04\n",
            "Epoch 76/200\n",
            "4854/4854 [==============================] - 43s 9ms/step - loss: 6.7455e-04\n",
            "Epoch 77/200\n",
            "4854/4854 [==============================] - 44s 9ms/step - loss: 7.1326e-04\n",
            "Epoch 78/200\n",
            "4854/4854 [==============================] - 43s 9ms/step - loss: 6.5753e-04\n",
            "Epoch 79/200\n",
            "4854/4854 [==============================] - 44s 9ms/step - loss: 6.1730e-04\n",
            "Epoch 80/200\n",
            "4854/4854 [==============================] - 43s 9ms/step - loss: 6.5663e-04\n",
            "Epoch 81/200\n",
            "4854/4854 [==============================] - 43s 9ms/step - loss: 6.8107e-04\n",
            "Epoch 82/200\n",
            "4854/4854 [==============================] - 43s 9ms/step - loss: 6.7724e-04\n",
            "Epoch 83/200\n",
            "4854/4854 [==============================] - 45s 9ms/step - loss: 6.9046e-04\n",
            "Epoch 84/200\n",
            "4854/4854 [==============================] - 45s 9ms/step - loss: 7.1042e-04\n",
            "Epoch 85/200\n",
            "4854/4854 [==============================] - 43s 9ms/step - loss: 7.2207e-04\n",
            "Epoch 86/200\n",
            "4854/4854 [==============================] - 43s 9ms/step - loss: 6.5771e-04\n",
            "Epoch 87/200\n",
            "4854/4854 [==============================] - 43s 9ms/step - loss: 7.0864e-04\n",
            "Epoch 88/200\n",
            "4854/4854 [==============================] - 43s 9ms/step - loss: 7.1279e-04\n",
            "Epoch 89/200\n",
            "4854/4854 [==============================] - 43s 9ms/step - loss: 7.1164e-04\n",
            "Epoch 90/200\n",
            "4854/4854 [==============================] - 43s 9ms/step - loss: 6.6866e-04\n",
            "Epoch 91/200\n",
            "4854/4854 [==============================] - 43s 9ms/step - loss: 6.6869e-04\n",
            "Epoch 92/200\n",
            "4854/4854 [==============================] - 43s 9ms/step - loss: 6.6854e-04\n",
            "Epoch 93/200\n",
            "4854/4854 [==============================] - 43s 9ms/step - loss: 6.4526e-04\n",
            "Epoch 94/200\n",
            "4854/4854 [==============================] - 43s 9ms/step - loss: 6.4548e-04\n",
            "Epoch 95/200\n",
            "4854/4854 [==============================] - 43s 9ms/step - loss: 6.0242e-04\n",
            "Epoch 96/200\n",
            "4854/4854 [==============================] - 43s 9ms/step - loss: 5.9626e-04\n",
            "Epoch 97/200\n",
            "4854/4854 [==============================] - 43s 9ms/step - loss: 6.4094e-04\n",
            "Epoch 98/200\n",
            "4854/4854 [==============================] - 47s 10ms/step - loss: 6.5979e-04\n",
            "Epoch 99/200\n",
            "4854/4854 [==============================] - 43s 9ms/step - loss: 6.8944e-04\n",
            "Epoch 100/200\n",
            "4854/4854 [==============================] - 43s 9ms/step - loss: 6.4910e-04\n",
            "Epoch 101/200\n",
            "4854/4854 [==============================] - 43s 9ms/step - loss: 7.5082e-04\n",
            "Epoch 102/200\n",
            "4854/4854 [==============================] - 43s 9ms/step - loss: 6.9007e-04\n",
            "Epoch 103/200\n",
            "4854/4854 [==============================] - 43s 9ms/step - loss: 6.6420e-04\n",
            "Epoch 104/200\n",
            "4854/4854 [==============================] - 43s 9ms/step - loss: 6.4216e-04\n",
            "Epoch 105/200\n",
            "4854/4854 [==============================] - 42s 9ms/step - loss: 6.3179e-04\n",
            "Epoch 106/200\n",
            "4854/4854 [==============================] - 43s 9ms/step - loss: 6.4523e-04\n",
            "Epoch 107/200\n",
            "4854/4854 [==============================] - 43s 9ms/step - loss: 6.5675e-04\n",
            "Epoch 108/200\n",
            "4854/4854 [==============================] - 43s 9ms/step - loss: 6.2332e-04\n",
            "Epoch 109/200\n",
            "4854/4854 [==============================] - 43s 9ms/step - loss: 6.4780e-04\n",
            "Epoch 110/200\n",
            "4854/4854 [==============================] - 42s 9ms/step - loss: 6.6230e-04\n",
            "Epoch 111/200\n",
            "4854/4854 [==============================] - 43s 9ms/step - loss: 6.4603e-04\n",
            "Epoch 112/200\n",
            "4854/4854 [==============================] - 47s 10ms/step - loss: 6.5544e-04\n",
            "Epoch 113/200\n",
            "4854/4854 [==============================] - 43s 9ms/step - loss: 6.0982e-04\n",
            "Epoch 114/200\n",
            "4854/4854 [==============================] - 43s 9ms/step - loss: 6.3795e-04\n",
            "Epoch 115/200\n",
            "4854/4854 [==============================] - 43s 9ms/step - loss: 6.0223e-04\n",
            "Epoch 116/200\n",
            "4854/4854 [==============================] - 43s 9ms/step - loss: 6.1778e-04\n",
            "Epoch 117/200\n",
            "4854/4854 [==============================] - 43s 9ms/step - loss: 5.8350e-04\n",
            "Epoch 118/200\n",
            "4854/4854 [==============================] - 43s 9ms/step - loss: 6.4689e-04\n",
            "Epoch 119/200\n",
            "4854/4854 [==============================] - 43s 9ms/step - loss: 5.8983e-04\n",
            "Epoch 120/200\n",
            "4854/4854 [==============================] - 43s 9ms/step - loss: 6.2852e-04\n",
            "Epoch 121/200\n",
            "4854/4854 [==============================] - 43s 9ms/step - loss: 5.9779e-04\n",
            "Epoch 122/200\n",
            "4854/4854 [==============================] - 43s 9ms/step - loss: 6.8586e-04\n",
            "Epoch 123/200\n",
            "4854/4854 [==============================] - 43s 9ms/step - loss: 6.5814e-04\n",
            "Epoch 124/200\n",
            "4854/4854 [==============================] - 43s 9ms/step - loss: 6.3208e-04\n",
            "Epoch 125/200\n",
            "4854/4854 [==============================] - 43s 9ms/step - loss: 6.8447e-04\n",
            "Epoch 126/200\n",
            "4854/4854 [==============================] - 47s 10ms/step - loss: 6.1683e-04\n",
            "Epoch 127/200\n",
            "4854/4854 [==============================] - 43s 9ms/step - loss: 5.9255e-04\n",
            "Epoch 128/200\n",
            "4854/4854 [==============================] - 42s 9ms/step - loss: 6.1283e-04\n",
            "Epoch 129/200\n",
            "4854/4854 [==============================] - 43s 9ms/step - loss: 6.3469e-04\n",
            "Epoch 130/200\n",
            "4854/4854 [==============================] - 43s 9ms/step - loss: 6.1128e-04\n",
            "Epoch 131/200\n",
            "4854/4854 [==============================] - 43s 9ms/step - loss: 6.3159e-04\n",
            "Epoch 132/200\n",
            "4854/4854 [==============================] - 42s 9ms/step - loss: 5.8264e-04\n",
            "Epoch 133/200\n",
            "4854/4854 [==============================] - 43s 9ms/step - loss: 6.6183e-04\n",
            "Epoch 134/200\n",
            "4854/4854 [==============================] - 43s 9ms/step - loss: 5.8788e-04\n",
            "Epoch 135/200\n",
            "4854/4854 [==============================] - 43s 9ms/step - loss: 6.3001e-04\n",
            "Epoch 136/200\n",
            "4854/4854 [==============================] - 43s 9ms/step - loss: 6.1040e-04\n",
            "Epoch 137/200\n",
            "4854/4854 [==============================] - 43s 9ms/step - loss: 7.0631e-04\n",
            "Epoch 138/200\n",
            "4854/4854 [==============================] - 43s 9ms/step - loss: 5.8193e-04\n",
            "Epoch 139/200\n",
            "4854/4854 [==============================] - 43s 9ms/step - loss: 5.9447e-04\n",
            "Epoch 140/200\n",
            "4854/4854 [==============================] - 42s 9ms/step - loss: 6.0646e-04\n",
            "Epoch 141/200\n",
            "4854/4854 [==============================] - 43s 9ms/step - loss: 6.3937e-04\n",
            "Epoch 142/200\n",
            "4854/4854 [==============================] - 43s 9ms/step - loss: 6.0461e-04\n",
            "Epoch 143/200\n",
            "4854/4854 [==============================] - 43s 9ms/step - loss: 5.5587e-04\n",
            "Epoch 144/200\n",
            "4854/4854 [==============================] - 43s 9ms/step - loss: 5.8551e-04\n",
            "Epoch 145/200\n",
            "4854/4854 [==============================] - 42s 9ms/step - loss: 6.1618e-04\n",
            "Epoch 146/200\n",
            "4854/4854 [==============================] - 42s 9ms/step - loss: 6.6893e-04\n",
            "Epoch 147/200\n",
            "4854/4854 [==============================] - 42s 9ms/step - loss: 6.3220e-04\n",
            "Epoch 148/200\n",
            "4854/4854 [==============================] - 42s 9ms/step - loss: 6.0358e-04\n",
            "Epoch 149/200\n",
            "4854/4854 [==============================] - 42s 9ms/step - loss: 5.9443e-04\n",
            "Epoch 150/200\n",
            "4854/4854 [==============================] - 42s 9ms/step - loss: 5.8604e-04\n",
            "Epoch 151/200\n",
            "4854/4854 [==============================] - 43s 9ms/step - loss: 6.5077e-04\n",
            "Epoch 152/200\n",
            "4854/4854 [==============================] - 42s 9ms/step - loss: 6.1653e-04\n",
            "Epoch 153/200\n",
            "4854/4854 [==============================] - 42s 9ms/step - loss: 5.9332e-04\n",
            "Epoch 154/200\n",
            "4854/4854 [==============================] - 42s 9ms/step - loss: 6.1357e-04\n",
            "Epoch 155/200\n",
            "4854/4854 [==============================] - 42s 9ms/step - loss: 6.1277e-04\n",
            "Epoch 156/200\n",
            "4854/4854 [==============================] - 42s 9ms/step - loss: 6.0950e-04\n",
            "Epoch 157/200\n",
            "4854/4854 [==============================] - 42s 9ms/step - loss: 6.5019e-04\n",
            "Epoch 158/200\n",
            "4854/4854 [==============================] - 42s 9ms/step - loss: 6.1103e-04\n",
            "Epoch 159/200\n",
            "4854/4854 [==============================] - 42s 9ms/step - loss: 6.4134e-04\n",
            "Epoch 160/200\n",
            "4854/4854 [==============================] - 42s 9ms/step - loss: 5.7389e-04\n",
            "Epoch 161/200\n",
            "4854/4854 [==============================] - 42s 9ms/step - loss: 6.2187e-04\n",
            "Epoch 162/200\n",
            "4854/4854 [==============================] - 42s 9ms/step - loss: 6.1797e-04\n",
            "Epoch 163/200\n",
            "4854/4854 [==============================] - 42s 9ms/step - loss: 6.0140e-04\n",
            "Epoch 164/200\n",
            "4854/4854 [==============================] - 42s 9ms/step - loss: 6.0520e-04\n",
            "Epoch 165/200\n",
            "4854/4854 [==============================] - 42s 9ms/step - loss: 6.0718e-04\n",
            "Epoch 166/200\n",
            "4854/4854 [==============================] - 42s 9ms/step - loss: 5.6996e-04\n",
            "Epoch 167/200\n",
            "4854/4854 [==============================] - 42s 9ms/step - loss: 5.7818e-04\n",
            "Epoch 168/200\n",
            "4854/4854 [==============================] - 42s 9ms/step - loss: 6.1643e-04\n",
            "Epoch 169/200\n",
            "4854/4854 [==============================] - 42s 9ms/step - loss: 5.6518e-04\n",
            "Epoch 170/200\n",
            "4854/4854 [==============================] - 42s 9ms/step - loss: 6.8245e-04\n",
            "Epoch 171/200\n",
            "4854/4854 [==============================] - 42s 9ms/step - loss: 5.9490e-04\n",
            "Epoch 172/200\n",
            "4854/4854 [==============================] - 42s 9ms/step - loss: 5.6974e-04\n",
            "Epoch 173/200\n",
            "4854/4854 [==============================] - 42s 9ms/step - loss: 6.4958e-04\n",
            "Epoch 174/200\n",
            "4854/4854 [==============================] - 42s 9ms/step - loss: 6.3875e-04\n",
            "Epoch 175/200\n",
            "4854/4854 [==============================] - 42s 9ms/step - loss: 5.5328e-04\n",
            "Epoch 176/200\n",
            "4854/4854 [==============================] - 42s 9ms/step - loss: 6.1439e-04\n",
            "Epoch 177/200\n",
            "4854/4854 [==============================] - 42s 9ms/step - loss: 5.7055e-04\n",
            "Epoch 178/200\n",
            "4854/4854 [==============================] - 42s 9ms/step - loss: 5.9409e-04\n",
            "Epoch 179/200\n",
            "4854/4854 [==============================] - 42s 9ms/step - loss: 6.0855e-04\n",
            "Epoch 180/200\n",
            "4854/4854 [==============================] - 42s 9ms/step - loss: 6.0142e-04\n",
            "Epoch 181/200\n",
            "4854/4854 [==============================] - 42s 9ms/step - loss: 5.8409e-04\n",
            "Epoch 182/200\n",
            "4854/4854 [==============================] - 42s 9ms/step - loss: 6.1114e-04\n",
            "Epoch 183/200\n",
            "4854/4854 [==============================] - 42s 9ms/step - loss: 5.4804e-04\n",
            "Epoch 184/200\n",
            "4854/4854 [==============================] - 43s 9ms/step - loss: 5.9153e-04\n",
            "Epoch 185/200\n",
            "4854/4854 [==============================] - 43s 9ms/step - loss: 6.4093e-04\n",
            "Epoch 186/200\n",
            "4854/4854 [==============================] - 43s 9ms/step - loss: 6.1389e-04\n",
            "Epoch 187/200\n",
            "4854/4854 [==============================] - 43s 9ms/step - loss: 5.7226e-04\n",
            "Epoch 188/200\n",
            "4854/4854 [==============================] - 43s 9ms/step - loss: 6.0169e-04\n",
            "Epoch 189/200\n",
            "4854/4854 [==============================] - 43s 9ms/step - loss: 5.8489e-04\n",
            "Epoch 190/200\n",
            "4854/4854 [==============================] - 43s 9ms/step - loss: 6.2542e-04\n",
            "Epoch 191/200\n",
            "4854/4854 [==============================] - 43s 9ms/step - loss: 5.6826e-04\n",
            "Epoch 192/200\n",
            "4854/4854 [==============================] - 44s 9ms/step - loss: 6.2903e-04\n",
            "Epoch 193/200\n",
            "4854/4854 [==============================] - 43s 9ms/step - loss: 6.0390e-04\n",
            "Epoch 194/200\n",
            "4854/4854 [==============================] - 44s 9ms/step - loss: 5.9067e-04\n",
            "Epoch 195/200\n",
            "4854/4854 [==============================] - 44s 9ms/step - loss: 6.0383e-04\n",
            "Epoch 196/200\n",
            "4854/4854 [==============================] - 44s 9ms/step - loss: 5.3774e-04\n",
            "Epoch 197/200\n",
            "4854/4854 [==============================] - 43s 9ms/step - loss: 6.1445e-04\n",
            "Epoch 198/200\n",
            "4854/4854 [==============================] - 47s 10ms/step - loss: 5.9252e-04\n",
            "Epoch 199/200\n",
            "4854/4854 [==============================] - 43s 9ms/step - loss: 5.7156e-04\n",
            "Epoch 200/200\n",
            "4854/4854 [==============================] - 43s 9ms/step - loss: 6.0574e-04\n"
          ],
          "name": "stdout"
        },
        {
          "output_type": "execute_result",
          "data": {
            "text/plain": [
              "<keras.callbacks.callbacks.History at 0x7f7591a10e80>"
            ]
          },
          "metadata": {
            "tags": []
          },
          "execution_count": 21
        }
      ]
    },
    {
      "cell_type": "code",
      "metadata": {
        "id": "U3gx4kMRnI4X",
        "colab_type": "code",
        "outputId": "d95945e1-73c0-4ef9-d17f-aa5d4c25fb7f",
        "colab": {
          "base_uri": "https://localhost:8080/",
          "height": 162
        }
      },
      "source": [
        "model.save('/content/drive/My Drive/Colab Notebooks/cipla2020.h5')"
      ],
      "execution_count": 0,
      "outputs": [
        {
          "output_type": "error",
          "ename": "AttributeError",
          "evalue": "ignored",
          "traceback": [
            "\u001b[0;31m---------------------------------------------------------------------------\u001b[0m",
            "\u001b[0;31mAttributeError\u001b[0m                            Traceback (most recent call last)",
            "\u001b[0;32m<ipython-input-39-b00efe7e3970>\u001b[0m in \u001b[0;36m<module>\u001b[0;34m()\u001b[0m\n\u001b[0;32m----> 1\u001b[0;31m \u001b[0mmodel\u001b[0m\u001b[0;34m.\u001b[0m\u001b[0msave\u001b[0m\u001b[0;34m(\u001b[0m\u001b[0;34m'cipla2020.h5'\u001b[0m\u001b[0;34m)\u001b[0m\u001b[0;34m\u001b[0m\u001b[0;34m\u001b[0m\u001b[0m\n\u001b[0m",
            "\u001b[0;31mAttributeError\u001b[0m: 'str' object has no attribute 'save'"
          ]
        }
      ]
    },
    {
      "cell_type": "code",
      "metadata": {
        "id": "lYXmk2oVjaKD",
        "colab_type": "code",
        "colab": {}
      },
      "source": [
        "# Making predictions and visualising the result\n",
        "\n",
        "real_stock_price = dataset_test.iloc[:, 1:2].values # The real stock prices from year 2019 to may 2020"
      ],
      "execution_count": 0,
      "outputs": []
    },
    {
      "cell_type": "code",
      "metadata": {
        "id": "JXY3MLCNnO2L",
        "colab_type": "code",
        "outputId": "0581dcec-c515-473a-cae8-f0f29a4a5d5f",
        "colab": {
          "base_uri": "https://localhost:8080/",
          "height": 34
        }
      },
      "source": [
        "len(real_stock_price)"
      ],
      "execution_count": 0,
      "outputs": [
        {
          "output_type": "execute_result",
          "data": {
            "text/plain": [
              "101"
            ]
          },
          "metadata": {
            "tags": []
          },
          "execution_count": 23
        }
      ]
    },
    {
      "cell_type": "code",
      "metadata": {
        "id": "zHVUu-Jwnm-_",
        "colab_type": "code",
        "outputId": "770c8fb9-3cb7-459d-bb11-f1c15914ceb9",
        "colab": {
          "base_uri": "https://localhost:8080/",
          "height": 218
        }
      },
      "source": [
        "dataset_total = pd.concat((dataset_train['Open'], dataset_test['Open']), axis = 0)\n",
        "dataset_total"
      ],
      "execution_count": 0,
      "outputs": [
        {
          "output_type": "execute_result",
          "data": {
            "text/plain": [
              "0       1410.0\n",
              "1       1537.0\n",
              "2       1474.0\n",
              "3       1434.0\n",
              "4       1370.0\n",
              "         ...  \n",
              "5070     616.7\n",
              "5071     640.0\n",
              "5072     630.0\n",
              "5073     634.0\n",
              "5074     633.0\n",
              "Name: Open, Length: 5075, dtype: float64"
            ]
          },
          "metadata": {
            "tags": []
          },
          "execution_count": 24
        }
      ]
    },
    {
      "cell_type": "code",
      "metadata": {
        "id": "dOMH4Cz9rDNC",
        "colab_type": "code",
        "colab": {}
      },
      "source": [
        "inputs = dataset_total[len(dataset_total) - len(dataset_test) - 120:].values # To get the first financial day of 2019 ie the lower bound and the last day of the dataset which is the upper bound\n",
        "inputs = inputs.reshape(-1,1)\n",
        "\n",
        "inputs = sc.transform(inputs) # Same scaling as training set"
      ],
      "execution_count": 0,
      "outputs": []
    },
    {
      "cell_type": "code",
      "metadata": {
        "id": "r-1QlWT1ttNg",
        "colab_type": "code",
        "colab": {}
      },
      "source": [
        "X_test = []\n",
        "\n",
        "for i in range(120,221):\n",
        "  X_test.append(inputs[i-120 : i, 0]) # 60 previous stock prices from the first day of 2019\n",
        "\n",
        "X_test = np.array(X_test)\n",
        "\n",
        "X_test = np.reshape(X_test, (X_test.shape[0], X_test.shape[1], 1))"
      ],
      "execution_count": 0,
      "outputs": []
    },
    {
      "cell_type": "code",
      "metadata": {
        "id": "xKYSQnqOvORo",
        "colab_type": "code",
        "colab": {}
      },
      "source": [
        "# Prediction of results between 2019 and may 2020\n",
        "\n",
        "predicted_stock_price = model.predict(X_test)\n",
        "predicted_stock_price = sc.inverse_transform(predicted_stock_price)"
      ],
      "execution_count": 0,
      "outputs": []
    },
    {
      "cell_type": "code",
      "metadata": {
        "id": "DOpD6bkhv2mj",
        "colab_type": "code",
        "outputId": "78ccf44d-685b-487b-b14a-d4e468d64fd9",
        "colab": {
          "base_uri": "https://localhost:8080/",
          "height": 402
        }
      },
      "source": [
        "predicted_stock_price_df = pd.DataFrame({'Predicted Stock prices' : predicted_stock_price[:, 0]})\n",
        "predicted_stock_price_df"
      ],
      "execution_count": 0,
      "outputs": [
        {
          "output_type": "execute_result",
          "data": {
            "text/html": [
              "<div>\n",
              "<style scoped>\n",
              "    .dataframe tbody tr th:only-of-type {\n",
              "        vertical-align: middle;\n",
              "    }\n",
              "\n",
              "    .dataframe tbody tr th {\n",
              "        vertical-align: top;\n",
              "    }\n",
              "\n",
              "    .dataframe thead th {\n",
              "        text-align: right;\n",
              "    }\n",
              "</style>\n",
              "<table border=\"1\" class=\"dataframe\">\n",
              "  <thead>\n",
              "    <tr style=\"text-align: right;\">\n",
              "      <th></th>\n",
              "      <th>Predicted Stock prices</th>\n",
              "    </tr>\n",
              "  </thead>\n",
              "  <tbody>\n",
              "    <tr>\n",
              "      <th>0</th>\n",
              "      <td>481.332397</td>\n",
              "    </tr>\n",
              "    <tr>\n",
              "      <th>1</th>\n",
              "      <td>481.772461</td>\n",
              "    </tr>\n",
              "    <tr>\n",
              "      <th>2</th>\n",
              "      <td>480.577362</td>\n",
              "    </tr>\n",
              "    <tr>\n",
              "      <th>3</th>\n",
              "      <td>478.049316</td>\n",
              "    </tr>\n",
              "    <tr>\n",
              "      <th>4</th>\n",
              "      <td>473.246704</td>\n",
              "    </tr>\n",
              "    <tr>\n",
              "      <th>...</th>\n",
              "      <td>...</td>\n",
              "    </tr>\n",
              "    <tr>\n",
              "      <th>96</th>\n",
              "      <td>614.984741</td>\n",
              "    </tr>\n",
              "    <tr>\n",
              "      <th>97</th>\n",
              "      <td>617.517578</td>\n",
              "    </tr>\n",
              "    <tr>\n",
              "      <th>98</th>\n",
              "      <td>631.640442</td>\n",
              "    </tr>\n",
              "    <tr>\n",
              "      <th>99</th>\n",
              "      <td>629.854614</td>\n",
              "    </tr>\n",
              "    <tr>\n",
              "      <th>100</th>\n",
              "      <td>629.379395</td>\n",
              "    </tr>\n",
              "  </tbody>\n",
              "</table>\n",
              "<p>101 rows × 1 columns</p>\n",
              "</div>"
            ],
            "text/plain": [
              "     Predicted Stock prices\n",
              "0                481.332397\n",
              "1                481.772461\n",
              "2                480.577362\n",
              "3                478.049316\n",
              "4                473.246704\n",
              "..                      ...\n",
              "96               614.984741\n",
              "97               617.517578\n",
              "98               631.640442\n",
              "99               629.854614\n",
              "100              629.379395\n",
              "\n",
              "[101 rows x 1 columns]"
            ]
          },
          "metadata": {
            "tags": []
          },
          "execution_count": 29
        }
      ]
    },
    {
      "cell_type": "code",
      "metadata": {
        "id": "DKMWwLT3wxEn",
        "colab_type": "code",
        "outputId": "34b00188-2f3e-4ed7-e012-45e20e6384ee",
        "colab": {
          "base_uri": "https://localhost:8080/",
          "height": 402
        }
      },
      "source": [
        "dataset_test"
      ],
      "execution_count": 0,
      "outputs": [
        {
          "output_type": "execute_result",
          "data": {
            "text/html": [
              "<div>\n",
              "<style scoped>\n",
              "    .dataframe tbody tr th:only-of-type {\n",
              "        vertical-align: middle;\n",
              "    }\n",
              "\n",
              "    .dataframe tbody tr th {\n",
              "        vertical-align: top;\n",
              "    }\n",
              "\n",
              "    .dataframe thead th {\n",
              "        text-align: right;\n",
              "    }\n",
              "</style>\n",
              "<table border=\"1\" class=\"dataframe\">\n",
              "  <thead>\n",
              "    <tr style=\"text-align: right;\">\n",
              "      <th></th>\n",
              "      <th>Date</th>\n",
              "      <th>Open</th>\n",
              "      <th>High</th>\n",
              "      <th>Low</th>\n",
              "      <th>Close</th>\n",
              "      <th>Volume</th>\n",
              "    </tr>\n",
              "  </thead>\n",
              "  <tbody>\n",
              "    <tr>\n",
              "      <th>4729</th>\n",
              "      <td>2019-01-01</td>\n",
              "      <td>520.0</td>\n",
              "      <td>524.00</td>\n",
              "      <td>518.65</td>\n",
              "      <td>523.05</td>\n",
              "      <td>1361809</td>\n",
              "    </tr>\n",
              "    <tr>\n",
              "      <th>4730</th>\n",
              "      <td>2019-01-02</td>\n",
              "      <td>521.9</td>\n",
              "      <td>522.50</td>\n",
              "      <td>513.15</td>\n",
              "      <td>514.55</td>\n",
              "      <td>1243067</td>\n",
              "    </tr>\n",
              "    <tr>\n",
              "      <th>4731</th>\n",
              "      <td>2019-01-03</td>\n",
              "      <td>516.5</td>\n",
              "      <td>520.50</td>\n",
              "      <td>511.20</td>\n",
              "      <td>512.40</td>\n",
              "      <td>2086150</td>\n",
              "    </tr>\n",
              "    <tr>\n",
              "      <th>4732</th>\n",
              "      <td>2019-01-04</td>\n",
              "      <td>513.0</td>\n",
              "      <td>514.90</td>\n",
              "      <td>508.05</td>\n",
              "      <td>512.80</td>\n",
              "      <td>1651456</td>\n",
              "    </tr>\n",
              "    <tr>\n",
              "      <th>4733</th>\n",
              "      <td>2019-01-07</td>\n",
              "      <td>516.0</td>\n",
              "      <td>517.75</td>\n",
              "      <td>510.30</td>\n",
              "      <td>514.05</td>\n",
              "      <td>1168002</td>\n",
              "    </tr>\n",
              "    <tr>\n",
              "      <th>...</th>\n",
              "      <td>...</td>\n",
              "      <td>...</td>\n",
              "      <td>...</td>\n",
              "      <td>...</td>\n",
              "      <td>...</td>\n",
              "      <td>...</td>\n",
              "    </tr>\n",
              "    <tr>\n",
              "      <th>5070</th>\n",
              "      <td>2020-05-22</td>\n",
              "      <td>616.7</td>\n",
              "      <td>641.85</td>\n",
              "      <td>610.10</td>\n",
              "      <td>639.35</td>\n",
              "      <td>10875625</td>\n",
              "    </tr>\n",
              "    <tr>\n",
              "      <th>5071</th>\n",
              "      <td>2020-05-26</td>\n",
              "      <td>640.0</td>\n",
              "      <td>646.90</td>\n",
              "      <td>624.05</td>\n",
              "      <td>627.70</td>\n",
              "      <td>8859499</td>\n",
              "    </tr>\n",
              "    <tr>\n",
              "      <th>5072</th>\n",
              "      <td>2020-05-27</td>\n",
              "      <td>630.0</td>\n",
              "      <td>637.80</td>\n",
              "      <td>625.80</td>\n",
              "      <td>633.05</td>\n",
              "      <td>7710110</td>\n",
              "    </tr>\n",
              "    <tr>\n",
              "      <th>5073</th>\n",
              "      <td>2020-05-28</td>\n",
              "      <td>634.0</td>\n",
              "      <td>637.65</td>\n",
              "      <td>626.05</td>\n",
              "      <td>628.35</td>\n",
              "      <td>5488725</td>\n",
              "    </tr>\n",
              "    <tr>\n",
              "      <th>5074</th>\n",
              "      <td>2020-05-29</td>\n",
              "      <td>633.0</td>\n",
              "      <td>650.95</td>\n",
              "      <td>631.00</td>\n",
              "      <td>648.15</td>\n",
              "      <td>10580213</td>\n",
              "    </tr>\n",
              "  </tbody>\n",
              "</table>\n",
              "<p>346 rows × 6 columns</p>\n",
              "</div>"
            ],
            "text/plain": [
              "            Date   Open    High     Low   Close    Volume\n",
              "4729  2019-01-01  520.0  524.00  518.65  523.05   1361809\n",
              "4730  2019-01-02  521.9  522.50  513.15  514.55   1243067\n",
              "4731  2019-01-03  516.5  520.50  511.20  512.40   2086150\n",
              "4732  2019-01-04  513.0  514.90  508.05  512.80   1651456\n",
              "4733  2019-01-07  516.0  517.75  510.30  514.05   1168002\n",
              "...          ...    ...     ...     ...     ...       ...\n",
              "5070  2020-05-22  616.7  641.85  610.10  639.35  10875625\n",
              "5071  2020-05-26  640.0  646.90  624.05  627.70   8859499\n",
              "5072  2020-05-27  630.0  637.80  625.80  633.05   7710110\n",
              "5073  2020-05-28  634.0  637.65  626.05  628.35   5488725\n",
              "5074  2020-05-29  633.0  650.95  631.00  648.15  10580213\n",
              "\n",
              "[346 rows x 6 columns]"
            ]
          },
          "metadata": {
            "tags": []
          },
          "execution_count": 69
        }
      ]
    },
    {
      "cell_type": "code",
      "metadata": {
        "id": "Mkm-LQenxfbl",
        "colab_type": "code",
        "outputId": "7a902f8c-99a5-4ad8-fb12-e77f81c09065",
        "colab": {
          "base_uri": "https://localhost:8080/",
          "height": 402
        }
      },
      "source": [
        "new_test = dataset_test.reset_index()\n",
        "del new_test['index']\n",
        "new_test1 = new_test[['Date','Open']]\n",
        "new_test1"
      ],
      "execution_count": 0,
      "outputs": [
        {
          "output_type": "execute_result",
          "data": {
            "text/html": [
              "<div>\n",
              "<style scoped>\n",
              "    .dataframe tbody tr th:only-of-type {\n",
              "        vertical-align: middle;\n",
              "    }\n",
              "\n",
              "    .dataframe tbody tr th {\n",
              "        vertical-align: top;\n",
              "    }\n",
              "\n",
              "    .dataframe thead th {\n",
              "        text-align: right;\n",
              "    }\n",
              "</style>\n",
              "<table border=\"1\" class=\"dataframe\">\n",
              "  <thead>\n",
              "    <tr style=\"text-align: right;\">\n",
              "      <th></th>\n",
              "      <th>Date</th>\n",
              "      <th>Open</th>\n",
              "    </tr>\n",
              "  </thead>\n",
              "  <tbody>\n",
              "    <tr>\n",
              "      <th>0</th>\n",
              "      <td>2020-01-01</td>\n",
              "      <td>481.00</td>\n",
              "    </tr>\n",
              "    <tr>\n",
              "      <th>1</th>\n",
              "      <td>2020-01-02</td>\n",
              "      <td>478.85</td>\n",
              "    </tr>\n",
              "    <tr>\n",
              "      <th>2</th>\n",
              "      <td>2020-01-03</td>\n",
              "      <td>475.80</td>\n",
              "    </tr>\n",
              "    <tr>\n",
              "      <th>3</th>\n",
              "      <td>2020-01-06</td>\n",
              "      <td>469.80</td>\n",
              "    </tr>\n",
              "    <tr>\n",
              "      <th>4</th>\n",
              "      <td>2020-01-07</td>\n",
              "      <td>466.00</td>\n",
              "    </tr>\n",
              "    <tr>\n",
              "      <th>...</th>\n",
              "      <td>...</td>\n",
              "      <td>...</td>\n",
              "    </tr>\n",
              "    <tr>\n",
              "      <th>96</th>\n",
              "      <td>2020-05-22</td>\n",
              "      <td>616.70</td>\n",
              "    </tr>\n",
              "    <tr>\n",
              "      <th>97</th>\n",
              "      <td>2020-05-26</td>\n",
              "      <td>640.00</td>\n",
              "    </tr>\n",
              "    <tr>\n",
              "      <th>98</th>\n",
              "      <td>2020-05-27</td>\n",
              "      <td>630.00</td>\n",
              "    </tr>\n",
              "    <tr>\n",
              "      <th>99</th>\n",
              "      <td>2020-05-28</td>\n",
              "      <td>634.00</td>\n",
              "    </tr>\n",
              "    <tr>\n",
              "      <th>100</th>\n",
              "      <td>2020-05-29</td>\n",
              "      <td>633.00</td>\n",
              "    </tr>\n",
              "  </tbody>\n",
              "</table>\n",
              "<p>101 rows × 2 columns</p>\n",
              "</div>"
            ],
            "text/plain": [
              "           Date    Open\n",
              "0    2020-01-01  481.00\n",
              "1    2020-01-02  478.85\n",
              "2    2020-01-03  475.80\n",
              "3    2020-01-06  469.80\n",
              "4    2020-01-07  466.00\n",
              "..          ...     ...\n",
              "96   2020-05-22  616.70\n",
              "97   2020-05-26  640.00\n",
              "98   2020-05-27  630.00\n",
              "99   2020-05-28  634.00\n",
              "100  2020-05-29  633.00\n",
              "\n",
              "[101 rows x 2 columns]"
            ]
          },
          "metadata": {
            "tags": []
          },
          "execution_count": 30
        }
      ]
    },
    {
      "cell_type": "code",
      "metadata": {
        "id": "tDqbPxfo2ndF",
        "colab_type": "code",
        "outputId": "9df38974-88e2-4021-f9f6-060d5c39bc9a",
        "colab": {
          "base_uri": "https://localhost:8080/",
          "height": 402
        }
      },
      "source": [
        "compare_df = pd.concat([new_test1,predicted_stock_price_df], axis = 1)\n",
        "compare_df"
      ],
      "execution_count": 0,
      "outputs": [
        {
          "output_type": "execute_result",
          "data": {
            "text/html": [
              "<div>\n",
              "<style scoped>\n",
              "    .dataframe tbody tr th:only-of-type {\n",
              "        vertical-align: middle;\n",
              "    }\n",
              "\n",
              "    .dataframe tbody tr th {\n",
              "        vertical-align: top;\n",
              "    }\n",
              "\n",
              "    .dataframe thead th {\n",
              "        text-align: right;\n",
              "    }\n",
              "</style>\n",
              "<table border=\"1\" class=\"dataframe\">\n",
              "  <thead>\n",
              "    <tr style=\"text-align: right;\">\n",
              "      <th></th>\n",
              "      <th>Date</th>\n",
              "      <th>Open</th>\n",
              "      <th>Predicted Stock prices</th>\n",
              "    </tr>\n",
              "  </thead>\n",
              "  <tbody>\n",
              "    <tr>\n",
              "      <th>0</th>\n",
              "      <td>2020-01-01</td>\n",
              "      <td>481.00</td>\n",
              "      <td>481.332397</td>\n",
              "    </tr>\n",
              "    <tr>\n",
              "      <th>1</th>\n",
              "      <td>2020-01-02</td>\n",
              "      <td>478.85</td>\n",
              "      <td>481.772461</td>\n",
              "    </tr>\n",
              "    <tr>\n",
              "      <th>2</th>\n",
              "      <td>2020-01-03</td>\n",
              "      <td>475.80</td>\n",
              "      <td>480.577362</td>\n",
              "    </tr>\n",
              "    <tr>\n",
              "      <th>3</th>\n",
              "      <td>2020-01-06</td>\n",
              "      <td>469.80</td>\n",
              "      <td>478.049316</td>\n",
              "    </tr>\n",
              "    <tr>\n",
              "      <th>4</th>\n",
              "      <td>2020-01-07</td>\n",
              "      <td>466.00</td>\n",
              "      <td>473.246704</td>\n",
              "    </tr>\n",
              "    <tr>\n",
              "      <th>...</th>\n",
              "      <td>...</td>\n",
              "      <td>...</td>\n",
              "      <td>...</td>\n",
              "    </tr>\n",
              "    <tr>\n",
              "      <th>96</th>\n",
              "      <td>2020-05-22</td>\n",
              "      <td>616.70</td>\n",
              "      <td>614.984741</td>\n",
              "    </tr>\n",
              "    <tr>\n",
              "      <th>97</th>\n",
              "      <td>2020-05-26</td>\n",
              "      <td>640.00</td>\n",
              "      <td>617.517578</td>\n",
              "    </tr>\n",
              "    <tr>\n",
              "      <th>98</th>\n",
              "      <td>2020-05-27</td>\n",
              "      <td>630.00</td>\n",
              "      <td>631.640442</td>\n",
              "    </tr>\n",
              "    <tr>\n",
              "      <th>99</th>\n",
              "      <td>2020-05-28</td>\n",
              "      <td>634.00</td>\n",
              "      <td>629.854614</td>\n",
              "    </tr>\n",
              "    <tr>\n",
              "      <th>100</th>\n",
              "      <td>2020-05-29</td>\n",
              "      <td>633.00</td>\n",
              "      <td>629.379395</td>\n",
              "    </tr>\n",
              "  </tbody>\n",
              "</table>\n",
              "<p>101 rows × 3 columns</p>\n",
              "</div>"
            ],
            "text/plain": [
              "           Date    Open  Predicted Stock prices\n",
              "0    2020-01-01  481.00              481.332397\n",
              "1    2020-01-02  478.85              481.772461\n",
              "2    2020-01-03  475.80              480.577362\n",
              "3    2020-01-06  469.80              478.049316\n",
              "4    2020-01-07  466.00              473.246704\n",
              "..          ...     ...                     ...\n",
              "96   2020-05-22  616.70              614.984741\n",
              "97   2020-05-26  640.00              617.517578\n",
              "98   2020-05-27  630.00              631.640442\n",
              "99   2020-05-28  634.00              629.854614\n",
              "100  2020-05-29  633.00              629.379395\n",
              "\n",
              "[101 rows x 3 columns]"
            ]
          },
          "metadata": {
            "tags": []
          },
          "execution_count": 31
        }
      ]
    },
    {
      "cell_type": "code",
      "metadata": {
        "id": "n9cVOF5T6RPS",
        "colab_type": "code",
        "colab": {}
      },
      "source": [
        "compare_df.to_csv('/content/drive/My Drive/Colab Notebooks/cipla_compare(2020).csv')"
      ],
      "execution_count": 0,
      "outputs": []
    },
    {
      "cell_type": "markdown",
      "metadata": {
        "id": "TJskCfuKyK-x",
        "colab_type": "text"
      },
      "source": [
        "Visualizing the results"
      ]
    },
    {
      "cell_type": "code",
      "metadata": {
        "id": "0F5l1wAOyFKW",
        "colab_type": "code",
        "outputId": "112f20bf-5a5c-4987-e64d-112dea7c5230",
        "colab": {
          "base_uri": "https://localhost:8080/",
          "height": 295
        }
      },
      "source": [
        "plt.plot(real_stock_price, color = 'red', label = 'Real Stock Price')\n",
        "plt.plot(predicted_stock_price, color = 'blue', label = 'Predicted Stock Price')\n",
        "plt.title('Cipla Stock Price Prediction for year 2020 till may', color = 'white')\n",
        "plt.xlabel('Time', color = 'white')\n",
        "plt.ylabel('Cipla Stock Price', color = 'white')\n",
        "plt.legend()\n",
        "plt.show()"
      ],
      "execution_count": 0,
      "outputs": [
        {
          "output_type": "display_data",
          "data": {
            "image/png": "[encoded data removed]",
            "text/plain": [
              "<Figure size 432x288 with 1 Axes>"
            ]
          },
          "metadata": {
            "tags": [],
            "needs_background": "light"
          }
        }
      ]
    },
    {
      "cell_type": "code",
      "metadata": {
        "id": "CrWB5Cgb1GBk",
        "colab_type": "code",
        "outputId": "caf269aa-9bc1-485d-b020-17046aa2d964",
        "colab": {
          "base_uri": "https://localhost:8080/",
          "height": 34
        }
      },
      "source": [
        "import math\n",
        "from sklearn.metrics import mean_squared_error\n",
        "rmse = math.sqrt(mean_squared_error(real_stock_price, predicted_stock_price))\n",
        "print(rmse)"
      ],
      "execution_count": 0,
      "outputs": [
        {
          "output_type": "stream",
          "text": [
            "17.758633325442922\n"
          ],
          "name": "stdout"
        }
      ]
    }
  ]
}